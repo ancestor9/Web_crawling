{
 "cells": [
  {
   "cell_type": "code",
   "execution_count": 2,
   "metadata": {},
   "outputs": [],
   "source": [
    "import requests\n",
    "from bs4 import BeautifulSoup"
   ]
  },
  {
   "cell_type": "markdown",
   "metadata": {},
   "source": [
    "### https://news.kbs.co.kr/robots.txt\n",
    "- https://www.youtube.com/watch?v=D5m3Ge-dmws"
   ]
  },
  {
   "cell_type": "code",
   "execution_count": 3,
   "metadata": {},
   "outputs": [
    {
     "name": "stdout",
     "output_type": "stream",
     "text": [
      "윤석열 대통령 변호인단 측이 헌법재판관 세 명에 대해 탄핵 심판 회피를 촉구하는 의견서를 헌법재판소에 제출했습니다.윤 대통령 변호인단은 오늘(1일) 입장문을 내고 \"문형배, 정계선, 이미선 헌법재판관에 대한 회피 촉구 의견서를 헌재에 제출했다\"고 밝혔습니다.변호인단은 \"정치적 예단을 드러내고 공정성에 대한 심각한 우려를 보인 세 헌법재판관은 즉시 회피해 탄핵 심리의 공정을 확보해야 한다\"고 주장했습니다.\n"
     ]
    }
   ],
   "source": [
    "url = \"https://news.kbs.co.kr/news/pc/view/view.do?ncd=8164674\"\n",
    "response = requests.get(url)\n",
    "soup = BeautifulSoup(response.text, 'html.parser')\n",
    "article_div = soup.find('div', {'id': 'cont_newstext'})\n",
    "content = article_div.get_text(strip=True)\n",
    "print(content)"
   ]
  },
  {
   "cell_type": "code",
   "execution_count": 4,
   "metadata": {},
   "outputs": [
    {
     "name": "stdout",
     "output_type": "stream",
     "text": [
      "윤 대통령 측, 헌법재판관 3명 ‘회피 촉구’ 의견서 제출\n"
     ]
    }
   ],
   "source": [
    "title_element = soup.find('h4', {'class': 'headline-title'})\n",
    "title = title_element.get_text() if title_element else \"제목을 찾을 수 없습니다\"\n",
    "print(title)"
   ]
  },
  {
   "cell_type": "code",
   "execution_count": 5,
   "metadata": {},
   "outputs": [],
   "source": [
    "import requests\n",
    "from bs4 import BeautifulSoup\n",
    "from urllib.parse import urljoin\n",
    "\n",
    "# 대상 웹 페이지 URL\n",
    "url = \"https://news.kbs.co.kr/news/pc/category/category.do?ref=pSiteMap#20250201&1\"\n",
    "\n",
    "# 웹 페이지 요청\n",
    "response = requests.get(url)\n",
    "response.raise_for_status()  # 요청이 성공적으로 완료되었는지 확인\n",
    "\n",
    "# HTML 파싱\n",
    "soup = BeautifulSoup(response.text, \"html.parser\")\n",
    "\n",
    "# 'box-contents has-wrap' 클래스를 가진 div 내부의 모든 a 태그 찾기\n",
    "box_contents = soup.find(\"div\", class_=\"box-contents has-wrap\")\n",
    "\n",
    "if box_contents:\n",
    "    links = []\n",
    "    for a_tag in box_contents.find_all(\"a\", href=True):\n",
    "        # 각 a 태그의 href 속성 가져오기\n",
    "        links.append(urljoin(url, a_tag[\"href\"]))  # 상대 URL을 절대 URL로 변환\n",
    "\n",
    "    # 결과 출력\n",
    "    for link in links:\n",
    "        print(link)\n",
    "else:\n",
    "    print(\"지정된 div를 찾을 수 없습니다.\")\n",
    "\n"
   ]
  },
  {
   "cell_type": "code",
   "execution_count": 6,
   "metadata": {},
   "outputs": [
    {
     "name": "stdout",
     "output_type": "stream",
     "text": [
      "<div class=\"box-contents has-wrap\">\n",
      "</div>\n",
      "\n"
     ]
    }
   ],
   "source": [
    "# HTML 파싱\n",
    "soup = BeautifulSoup(response.text, \"html.parser\")\n",
    "\n",
    "# box-contents has-wrap 내부에 어떤 요소가 있는지 확인\n",
    "box_contents = soup.find(\"div\", class_=\"box-contents has-wrap\")\n",
    "if box_contents:\n",
    "    print(box_contents.prettify())  # 내부 HTML 출력\n",
    "else:\n",
    "    print(\"지정된 div를 찾을 수 없습니다.\")\n"
   ]
  },
  {
   "cell_type": "code",
   "execution_count": 7,
   "metadata": {},
   "outputs": [],
   "source": [
    "from selenium import webdriver\n",
    "from selenium.webdriver.chrome.service import Service\n",
    "from webdriver_manager.chrome import ChromeDriverManager\n",
    "\n",
    "# 자동으로 Chrome WebDriver 다운로드 & 설치\n",
    "service = Service(ChromeDriverManager().install())\n",
    "driver = webdriver.Chrome(service=service)\n",
    "\n",
    "# 크롬 창 실행 후 웹 페이지 열기\n",
    "driver.get(\"https://www.google.com\")\n",
    "\n",
    "# 크롬 창 종료\n",
    "driver.quit()\n",
    "\n"
   ]
  },
  {
   "cell_type": "code",
   "execution_count": 8,
   "metadata": {},
   "outputs": [
    {
     "name": "stdout",
     "output_type": "stream",
     "text": [
      "d:\\python\\env\\Scripts\\python.exe\n"
     ]
    }
   ],
   "source": [
    "import sys\n",
    "print(sys.executable)\n"
   ]
  },
  {
   "cell_type": "code",
   "execution_count": 9,
   "metadata": {},
   "outputs": [
    {
     "name": "stdout",
     "output_type": "stream",
     "text": [
      "/news/view.do?ncd=8164805\n",
      "/news/view.do?ncd=8164803\n",
      "/news/view.do?ncd=8164802\n",
      "/news/view.do?ncd=8164801\n",
      "/news/view.do?ncd=8164800\n",
      "/news/view.do?ncd=8164799\n",
      "/news/view.do?ncd=8164798\n",
      "/news/view.do?ncd=8164797\n",
      "/news/view.do?ncd=8164796\n",
      "/news/view.do?ncd=8164795\n",
      "/news/view.do?ncd=8164794\n",
      "/news/view.do?ncd=8164793\n"
     ]
    }
   ],
   "source": [
    "from selenium import webdriver\n",
    "from selenium.webdriver.common.by import By\n",
    "from bs4 import BeautifulSoup\n",
    "import time\n",
    "\n",
    "# Chrome WebDriver 실행\n",
    "options = webdriver.ChromeOptions()\n",
    "options.add_argument('--headless')  # 브라우저 창 없이 실행 (옵션)\n",
    "driver = webdriver.Chrome(options=options)\n",
    "\n",
    "# 대상 URL 접속\n",
    "driver.get(\"https://news.kbs.co.kr/news/pc/category/category.do?ref=pSiteMap#20250201&1\")\n",
    "time.sleep(5)  # JavaScript가 데이터를 로딩할 시간을 줌\n",
    "\n",
    "# 페이지 HTML 가져오기\n",
    "html = driver.page_source\n",
    "soup = BeautifulSoup(html, \"html.parser\")\n",
    "\n",
    "# box-contents has-wrap 내부의 a 태그 찾기\n",
    "box_contents = soup.find(\"div\", class_=\"box-contents has-wrap\")\n",
    "if box_contents:\n",
    "    links = [a[\"href\"] for a in box_contents.find_all(\"a\", href=True)]\n",
    "    for link in links:\n",
    "        print(link)\n",
    "else:\n",
    "    print(\"지정된 div를 찾을 수 없습니다.\")\n",
    "\n",
    "# WebDriver 종료\n",
    "driver.quit()\n"
   ]
  },
  {
   "cell_type": "code",
   "execution_count": 10,
   "metadata": {},
   "outputs": [
    {
     "name": "stdout",
     "output_type": "stream",
     "text": [
      "링크: https://news.kbs.co.kr/news/view.do?ncd=8164805\n",
      "제목: Winter of Wondaeri Birch Forest\n",
      "본문: [Anchor]These days, if you go to Inje, in Gangwon-...\n",
      "==================================================\n",
      "링크: https://news.kbs.co.kr/news/view.do?ncd=8164803\n",
      "제목: Rapidly dying Korean pine trees\n",
      "본문: [Anchor]In the area of Uljin, where the largest cl...\n",
      "==================================================\n",
      "링크: https://news.kbs.co.kr/news/view.do?ncd=8164802\n",
      "제목: Japan fails to reflect forced labor\n",
      "본문: [Anchor]The site where Koreans were forcibly taken...\n",
      "==================================================\n",
      "링크: https://news.kbs.co.kr/news/view.do?ncd=8164801\n",
      "제목: Cutting of rice production\n",
      "본문: [Anchor]How many bowls of rice do you eat in a day...\n",
      "==================================================\n",
      "링크: https://news.kbs.co.kr/news/view.do?ncd=8164800\n",
      "제목: Suspected arson in Gwangju apartment\n",
      "본문: [Anchor]Early this morning (Feb. 1), a fire, suspe...\n",
      "==================================================\n",
      "링크: https://news.kbs.co.kr/news/view.do?ncd=8164799\n",
      "제목: Fishing boats run aground in Jeju\n",
      "본문: [Anchor]Two fishing boats have run aground in the...\n",
      "==================================================\n",
      "링크: https://news.kbs.co.kr/news/view.do?ncd=8164798\n",
      "제목: Fire at National Hangeul Museum\n",
      "본문: [Anchor]This morning (Feb. 1), a large fire broke...\n",
      "==================================================\n",
      "링크: https://news.kbs.co.kr/news/view.do?ncd=8164797\n",
      "제목: Medical jet crash in Philadephia\n",
      "본문: [Anchor]Two days after a passenger plane crash in...\n",
      "==================================================\n",
      "링크: https://news.kbs.co.kr/news/view.do?ncd=8164796\n",
      "제목: Weekend impeachment protests\n",
      "본문: [Anchor]Now, we have news about the protests.Today...\n",
      "==================================================\n",
      "링크: https://news.kbs.co.kr/news/view.do?ncd=8164795\n",
      "제목: Debate on justice nominee petition\n",
      "본문: [Anchor]In two days (on Feb. 3), an important deci...\n",
      "==================================================\n",
      "링크: https://news.kbs.co.kr/news/view.do?ncd=8164794\n",
      "제목: Yoon's side urges judges' recusal\n",
      "본문: [Anchor]The next news is about the impeachment tri...\n",
      "==================================================\n",
      "링크: https://news.kbs.co.kr/news/view.do?ncd=8164793\n",
      "제목: Tariff war impact on Korea\n",
      "본문: [Anchor]There are dark clouds over our export outl...\n",
      "==================================================\n"
     ]
    }
   ],
   "source": [
    "from selenium import webdriver\n",
    "from selenium.webdriver.common.by import By\n",
    "from bs4 import BeautifulSoup\n",
    "import time\n",
    "\n",
    "# Chrome WebDriver 실행\n",
    "options = webdriver.ChromeOptions()\n",
    "options.add_argument('--headless')  # 브라우저 창 없이 실행 (옵션)\n",
    "driver = webdriver.Chrome(options=options)\n",
    "\n",
    "# 대상 URL 접속\n",
    "driver.get(\"https://news.kbs.co.kr/news/pc/category/category.do?ref=pSiteMap#20250201&1\")\n",
    "time.sleep(5)  # JavaScript가 데이터를 로딩할 시간을 줌\n",
    "\n",
    "# 페이지 HTML 가져오기\n",
    "html = driver.page_source\n",
    "soup = BeautifulSoup(html, \"html.parser\")\n",
    "\n",
    "# 'box-contents has-wrap' 내부의 모든 기사 정보 찾기\n",
    "box_contents = soup.find(\"div\", class_=\"box-contents has-wrap\")\n",
    "if box_contents:\n",
    "    articles = box_contents.find_all(\"a\", class_=\"box-content flex-style\")  # 기사 링크 포함된 <a> 태그들\n",
    "    \n",
    "    news_data = []\n",
    "    for article in articles:\n",
    "        link = article[\"href\"]  # 기사 링크 추출\n",
    "        full_link = \"https://news.kbs.co.kr\" + link  # 상대 URL을 절대 URL로 변환\n",
    "\n",
    "        # title 추출\n",
    "        title_tag = article.find(\"p\", class_=\"title\")\n",
    "        title = title_tag.get_text(strip=True) if title_tag else \"제목 없음\"\n",
    "\n",
    "        # news-text 추출\n",
    "        news_text_tag = article.find(\"p\", class_=\"news-text\")\n",
    "        news_text = news_text_tag.get_text(strip=True) if news_text_tag else \"내용 없음\"\n",
    "\n",
    "        news_data.append({\"link\": full_link, \"title\": title, \"news_text\": news_text})\n",
    "\n",
    "    # 결과 출력\n",
    "    for news in news_data:\n",
    "        print(f\"링크: {news['link']}\")\n",
    "        print(f\"제목: {news['title']}\")\n",
    "        print(f\"본문: {news['news_text']}\")\n",
    "        print(\"=\" * 50)\n",
    "else:\n",
    "    print(\"지정된 div를 찾을 수 없습니다.\")\n",
    "\n",
    "# WebDriver 종료\n",
    "driver.quit()\n"
   ]
  },
  {
   "cell_type": "code",
   "execution_count": 11,
   "metadata": {},
   "outputs": [
    {
     "data": {
      "text/plain": [
       "[{'link': 'https://news.kbs.co.kr/news/view.do?ncd=8164805',\n",
       "  'title': 'Winter of Wondaeri Birch Forest',\n",
       "  'news_text': '[Anchor]These days, if you go to Inje, in Gangwon-...'},\n",
       " {'link': 'https://news.kbs.co.kr/news/view.do?ncd=8164803',\n",
       "  'title': 'Rapidly dying Korean pine trees',\n",
       "  'news_text': '[Anchor]In the area of Uljin, where the largest cl...'},\n",
       " {'link': 'https://news.kbs.co.kr/news/view.do?ncd=8164802',\n",
       "  'title': 'Japan fails to reflect forced labor',\n",
       "  'news_text': '[Anchor]The site where Koreans were forcibly taken...'},\n",
       " {'link': 'https://news.kbs.co.kr/news/view.do?ncd=8164801',\n",
       "  'title': 'Cutting of rice production',\n",
       "  'news_text': '[Anchor]How many bowls of rice do you eat in a day...'},\n",
       " {'link': 'https://news.kbs.co.kr/news/view.do?ncd=8164800',\n",
       "  'title': 'Suspected arson in Gwangju apartment',\n",
       "  'news_text': '[Anchor]Early this morning (Feb. 1), a fire, suspe...'},\n",
       " {'link': 'https://news.kbs.co.kr/news/view.do?ncd=8164799',\n",
       "  'title': 'Fishing boats run aground in Jeju',\n",
       "  'news_text': '[Anchor]Two fishing boats have run aground in the...'},\n",
       " {'link': 'https://news.kbs.co.kr/news/view.do?ncd=8164798',\n",
       "  'title': 'Fire at National Hangeul Museum',\n",
       "  'news_text': '[Anchor]This morning (Feb. 1), a large fire broke...'},\n",
       " {'link': 'https://news.kbs.co.kr/news/view.do?ncd=8164797',\n",
       "  'title': 'Medical jet crash in Philadephia',\n",
       "  'news_text': '[Anchor]Two days after a passenger plane crash in...'},\n",
       " {'link': 'https://news.kbs.co.kr/news/view.do?ncd=8164796',\n",
       "  'title': 'Weekend impeachment protests',\n",
       "  'news_text': '[Anchor]Now, we have news about the protests.Today...'},\n",
       " {'link': 'https://news.kbs.co.kr/news/view.do?ncd=8164795',\n",
       "  'title': 'Debate on justice nominee petition',\n",
       "  'news_text': '[Anchor]In two days (on Feb. 3), an important deci...'},\n",
       " {'link': 'https://news.kbs.co.kr/news/view.do?ncd=8164794',\n",
       "  'title': \"Yoon's side urges judges' recusal\",\n",
       "  'news_text': '[Anchor]The next news is about the impeachment tri...'},\n",
       " {'link': 'https://news.kbs.co.kr/news/view.do?ncd=8164793',\n",
       "  'title': 'Tariff war impact on Korea',\n",
       "  'news_text': '[Anchor]There are dark clouds over our export outl...'}]"
      ]
     },
     "execution_count": 11,
     "metadata": {},
     "output_type": "execute_result"
    }
   ],
   "source": [
    "news_data"
   ]
  },
  {
   "cell_type": "code",
   "execution_count": 12,
   "metadata": {},
   "outputs": [
    {
     "data": {
      "text/plain": [
       "'[Anchor]These days, if you go to Inje, in Gangwon-...'"
      ]
     },
     "execution_count": 12,
     "metadata": {},
     "output_type": "execute_result"
    }
   ],
   "source": [
    "news_data[0]['news_text']"
   ]
  },
  {
   "cell_type": "code",
   "execution_count": null,
   "metadata": {},
   "outputs": [],
   "source": []
  }
 ],
 "metadata": {
  "kernelspec": {
   "display_name": "zoro",
   "language": "python",
   "name": "zoro"
  },
  "language_info": {
   "codemirror_mode": {
    "name": "ipython",
    "version": 3
   },
   "file_extension": ".py",
   "mimetype": "text/x-python",
   "name": "python",
   "nbconvert_exporter": "python",
   "pygments_lexer": "ipython3",
   "version": "3.12.3"
  }
 },
 "nbformat": 4,
 "nbformat_minor": 2
}
