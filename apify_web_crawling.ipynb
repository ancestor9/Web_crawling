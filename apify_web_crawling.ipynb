{
  "cells": [
    {
      "cell_type": "markdown",
      "metadata": {
        "id": "view-in-github",
        "colab_type": "text"
      },
      "source": [
        "<a href=\"https://colab.research.google.com/github/ancestor9/Web_crawling/blob/main/apify_web_crawling.ipynb\" target=\"_parent\"><img src=\"https://colab.research.google.com/assets/colab-badge.svg\" alt=\"Open In Colab\"/></a>"
      ]
    },
    {
      "cell_type": "code",
      "execution_count": null,
      "outputs": [],
      "source": [
        "import sys\n",
        "sys.path.append('..')"
      ],
      "metadata": {
        "ExecuteTime": {
          "end_time": "2023-09-05T15:16:57.010681Z",
          "start_time": "2023-09-05T15:16:57.000956Z"
        },
        "id": "5vzXF0WQoAxI"
      }
    },
    {
      "cell_type": "code",
      "source": [
        "!pip install -q langchain\n",
        "!pip install -q langchain_community\n",
        "!pip install -q apify-client"
      ],
      "metadata": {
        "colab": {
          "base_uri": "https://localhost:8080/"
        },
        "id": "rQS8shBCoOgM",
        "outputId": "e2ad6117-4d91-44d1-efa4-3d1b0936748d"
      },
      "execution_count": null,
      "outputs": [
        {
          "output_type": "stream",
          "name": "stdout",
          "text": [
            "  Installing build dependencies ... \u001b[?25l\u001b[?25hdone\n",
            "  Getting requirements to build wheel ... \u001b[?25l\u001b[?25hdone\n",
            "  \u001b[1;31merror\u001b[0m: \u001b[1msubprocess-exited-with-error\u001b[0m\n",
            "  \n",
            "  \u001b[31m×\u001b[0m \u001b[32mPreparing metadata \u001b[0m\u001b[1;32m(\u001b[0m\u001b[32mpyproject.toml\u001b[0m\u001b[1;32m)\u001b[0m did not run successfully.\n",
            "  \u001b[31m│\u001b[0m exit code: \u001b[1;36m1\u001b[0m\n",
            "  \u001b[31m╰─>\u001b[0m See above for output.\n",
            "  \n",
            "  \u001b[1;35mnote\u001b[0m: This error originates from a subprocess, and is likely not a problem with pip.\n",
            "  Preparing metadata (pyproject.toml) ... \u001b[?25l\u001b[?25herror\n",
            "\u001b[1;31merror\u001b[0m: \u001b[1mmetadata-generation-failed\u001b[0m\n",
            "\n",
            "\u001b[31m×\u001b[0m Encountered error while generating package metadata.\n",
            "\u001b[31m╰─>\u001b[0m See above for output.\n",
            "\n",
            "\u001b[1;35mnote\u001b[0m: This is an issue with the package mentioned above, not pip.\n",
            "\u001b[1;36mhint\u001b[0m: See above for details.\n"
          ]
        }
      ]
    },
    {
      "cell_type": "code",
      "source": [
        "import langchain\n",
        "print(langchain.__version__)"
      ],
      "metadata": {
        "colab": {
          "base_uri": "https://localhost:8080/",
          "height": 346
        },
        "id": "bGz3cZtXpiUs",
        "outputId": "9a969546-6d2b-4eb2-ef73-e25890a64879"
      },
      "execution_count": null,
      "outputs": [
        {
          "output_type": "error",
          "ename": "ModuleNotFoundError",
          "evalue": "No module named 'langchain'",
          "traceback": [
            "\u001b[0;31m---------------------------------------------------------------------------\u001b[0m",
            "\u001b[0;31mModuleNotFoundError\u001b[0m                       Traceback (most recent call last)",
            "\u001b[0;32m<ipython-input-7-171c672f163d>\u001b[0m in \u001b[0;36m<cell line: 1>\u001b[0;34m()\u001b[0m\n\u001b[0;32m----> 1\u001b[0;31m \u001b[0;32mimport\u001b[0m \u001b[0mlangchain\u001b[0m\u001b[0;34m\u001b[0m\u001b[0;34m\u001b[0m\u001b[0m\n\u001b[0m\u001b[1;32m      2\u001b[0m \u001b[0mprint\u001b[0m\u001b[0;34m(\u001b[0m\u001b[0mlangchain\u001b[0m\u001b[0;34m.\u001b[0m\u001b[0m__version__\u001b[0m\u001b[0;34m)\u001b[0m\u001b[0;34m\u001b[0m\u001b[0;34m\u001b[0m\u001b[0m\n",
            "\u001b[0;31mModuleNotFoundError\u001b[0m: No module named 'langchain'",
            "",
            "\u001b[0;31m---------------------------------------------------------------------------\u001b[0;32m\nNOTE: If your import is failing due to a missing package, you can\nmanually install dependencies using either !pip or !apt.\n\nTo view examples of installing some common dependencies, click the\n\"Open Examples\" button below.\n\u001b[0;31m---------------------------------------------------------------------------\u001b[0m\n"
          ],
          "errorDetails": {
            "actions": [
              {
                "action": "open_url",
                "actionText": "Open Examples",
                "url": "/notebooks/snippets/importing_libraries.ipynb"
              }
            ]
          }
        }
      ]
    },
    {
      "cell_type": "code",
      "execution_count": null,
      "outputs": [
        {
          "output_type": "error",
          "ename": "ModuleNotFoundError",
          "evalue": "No module named 'langchain'",
          "traceback": [
            "\u001b[0;31m---------------------------------------------------------------------------\u001b[0m",
            "\u001b[0;31mModuleNotFoundError\u001b[0m                       Traceback (most recent call last)",
            "\u001b[0;32m<ipython-input-6-d92106722b48>\u001b[0m in \u001b[0;36m<cell line: 2>\u001b[0;34m()\u001b[0m\n\u001b[1;32m      1\u001b[0m \u001b[0;32mfrom\u001b[0m \u001b[0mapify_client\u001b[0m \u001b[0;32mimport\u001b[0m \u001b[0mApifyClient\u001b[0m\u001b[0;34m\u001b[0m\u001b[0;34m\u001b[0m\u001b[0m\n\u001b[0;32m----> 2\u001b[0;31m \u001b[0;32mfrom\u001b[0m \u001b[0mlangchain\u001b[0m\u001b[0;34m.\u001b[0m\u001b[0mdocument_loaders\u001b[0m\u001b[0;34m.\u001b[0m\u001b[0mapify_dataset\u001b[0m \u001b[0;32mimport\u001b[0m \u001b[0mApifyDatasetLoader\u001b[0m\u001b[0;34m\u001b[0m\u001b[0;34m\u001b[0m\u001b[0m\n\u001b[0m\u001b[1;32m      3\u001b[0m \u001b[0;32mfrom\u001b[0m \u001b[0mconfig\u001b[0m \u001b[0;32mimport\u001b[0m \u001b[0mAPIFY_API_TOKEN\u001b[0m\u001b[0;34m\u001b[0m\u001b[0;34m\u001b[0m\u001b[0m\n\u001b[1;32m      4\u001b[0m \u001b[0;34m\u001b[0m\u001b[0m\n\u001b[1;32m      5\u001b[0m \u001b[0;31m# when I tested this, I needed to put the token here. The environment variable wouldn't do:\u001b[0m\u001b[0;34m\u001b[0m\u001b[0;34m\u001b[0m\u001b[0m\n",
            "\u001b[0;31mModuleNotFoundError\u001b[0m: No module named 'langchain'",
            "",
            "\u001b[0;31m---------------------------------------------------------------------------\u001b[0;32m\nNOTE: If your import is failing due to a missing package, you can\nmanually install dependencies using either !pip or !apt.\n\nTo view examples of installing some common dependencies, click the\n\"Open Examples\" button below.\n\u001b[0;31m---------------------------------------------------------------------------\u001b[0m\n"
          ],
          "errorDetails": {
            "actions": [
              {
                "action": "open_url",
                "actionText": "Open Examples",
                "url": "/notebooks/snippets/importing_libraries.ipynb"
              }
            ]
          }
        }
      ],
      "source": [
        "from apify_client import ApifyClient\n",
        "from langchain.document_loaders.apify_dataset import ApifyDatasetLoader\n",
        "from config import APIFY_API_TOKEN\n",
        "\n",
        "# when I tested this, I needed to put the token here. The environment variable wouldn't do:\n",
        "apify = ApifyClient(\n",
        "    token=APIFY_API_TOKEN\n",
        ")\n",
        "actor = apify.actor(\n",
        "    actor_id=\"apify/website-content-crawler\",\n",
        ")"
      ],
      "metadata": {
        "ExecuteTime": {
          "end_time": "2023-09-05T15:36:59.378878Z",
          "start_time": "2023-09-05T15:35:58.969781Z"
        },
        "colab": {
          "base_uri": "https://localhost:8080/",
          "height": 400
        },
        "id": "upCEqaj9oAxK",
        "outputId": "0d179c03-7627-44f0-b309-cbc70b96ce4a"
      }
    },
    {
      "cell_type": "code",
      "execution_count": null,
      "outputs": [],
      "source": [
        "# initiate run and wait to finish:\n",
        "client_run = actor.call(\n",
        "    run_input={\"startUrls\": [{\"url\": \"https://docs.smith.langchain.com/overview\"}]},\n",
        ")\n",
        "# https://python.langchain.com/en/latest/"
      ],
      "metadata": {
        "ExecuteTime": {
          "end_time": "2023-09-06T16:19:01.254018Z",
          "start_time": "2023-09-06T16:18:28.746831Z"
        },
        "id": "o8MjNeACoAxK"
      }
    },
    {
      "cell_type": "code",
      "execution_count": null,
      "outputs": [
        {
          "name": "stdout",
          "output_type": "stream",
          "text": [
            "NpCG9x1sGpBoXK1zV\n"
          ]
        }
      ],
      "source": [
        "dataset_id = client_run.get(\"defaultDatasetId\")\n",
        "print(dataset_id)  # you can also find the ids at https://console.apify.com/storage/datasets"
      ],
      "metadata": {
        "ExecuteTime": {
          "end_time": "2023-09-06T16:19:01.268040Z",
          "start_time": "2023-09-06T16:19:01.256390Z"
        },
        "id": "jJWdVBCCoAxL",
        "outputId": "ec2bd5a2-f93a-4d32-e018-f133c73be527"
      }
    },
    {
      "cell_type": "code",
      "execution_count": null,
      "outputs": [],
      "source": [
        "from langchain.schema import Document\n",
        "\n",
        "loader = ApifyDatasetLoader(\n",
        "    dataset_id=dataset_id,\n",
        "    dataset_mapping_function=lambda dataset_item: Document(\n",
        "        page_content=dataset_item[\"text\"], metadata={\"source\": dataset_item[\"url\"]}\n",
        "    ),\n",
        ")"
      ],
      "metadata": {
        "ExecuteTime": {
          "end_time": "2023-09-06T16:19:01.434160Z",
          "start_time": "2023-09-06T16:19:01.271858Z"
        },
        "id": "pwLxMh9HoAxM"
      }
    },
    {
      "cell_type": "code",
      "execution_count": null,
      "outputs": [],
      "source": [
        "persist_directory = os.path.expanduser(\"~\") + \"/Documents/indexes/langsmith\""
      ],
      "metadata": {
        "ExecuteTime": {
          "end_time": "2023-09-06T16:35:51.302862Z",
          "start_time": "2023-09-06T16:35:51.288765Z"
        },
        "id": "b49IYbvaoAxM"
      }
    },
    {
      "cell_type": "code",
      "execution_count": null,
      "outputs": [
        {
          "data": {
            "text/plain": "'/Users/ben/Documents/indexes/langsmith'"
          },
          "execution_count": 31,
          "metadata": {},
          "output_type": "execute_result"
        }
      ],
      "source": [
        "persist_directory"
      ],
      "metadata": {
        "ExecuteTime": {
          "end_time": "2023-09-06T16:35:55.785723Z",
          "start_time": "2023-09-06T16:35:55.777278Z"
        },
        "id": "cuIZShmQoAxM",
        "outputId": "b42e3107-ca6c-4180-b6c9-709e9d78c63f"
      }
    },
    {
      "cell_type": "code",
      "execution_count": null,
      "outputs": [],
      "source": [
        "from langchain.indexes import VectorstoreIndexCreator\n",
        "from langchain.vectorstores import Chroma\n",
        "\n",
        "# persist index to disk and load it up again\n",
        "index = VectorstoreIndexCreator(\n",
        "    vectorstore_cls=Chroma,\n",
        "    vectorstore_kwargs={\n",
        "        \"persist_directory\": persist_directory\n",
        "    }).from_loaders([loader])"
      ],
      "metadata": {
        "ExecuteTime": {
          "end_time": "2023-09-06T16:36:16.563933Z",
          "start_time": "2023-09-06T16:36:14.958281Z"
        },
        "id": "5G5zriAgoAxM"
      }
    },
    {
      "cell_type": "code",
      "execution_count": null,
      "outputs": [
        {
          "name": "stdout",
          "output_type": "stream",
          "text": [
            " LangSmith is a tool used to debug LLMs, chains, and agents, track token usage, and collect examples of unexpected outcomes.\n",
            "\n",
            "https://docs.smith.langchain.com/overview\n"
          ]
        }
      ],
      "source": [
        "# Finally, query the vector database:\n",
        "query = \"What is LangSmith?\"\n",
        "result = index.query_with_sources(query)\n",
        "print(result[\"answer\"])\n",
        "print(result[\"sources\"])"
      ],
      "metadata": {
        "ExecuteTime": {
          "end_time": "2023-09-06T16:36:27.022639Z",
          "start_time": "2023-09-06T16:36:24.137849Z"
        },
        "id": "Wg5IHA6LoAxN",
        "outputId": "5fbef712-93d2-41a2-86c3-8b1f41361bc2"
      }
    },
    {
      "cell_type": "code",
      "execution_count": null,
      "outputs": [],
      "source": [
        "from langchain.embeddings import OpenAIEmbeddings\n",
        "\n",
        "# we need embeddings for retrieval\n",
        "embeddings = OpenAIEmbeddings()"
      ],
      "metadata": {
        "ExecuteTime": {
          "end_time": "2023-09-06T16:41:28.509265Z",
          "start_time": "2023-09-06T16:41:28.499091Z"
        },
        "id": "cAj6GuGdoAxN"
      }
    },
    {
      "cell_type": "code",
      "execution_count": null,
      "outputs": [],
      "source": [
        "# load the index back up:\n",
        "db = Chroma(persist_directory=persist_directory, embedding_function=embeddings)"
      ],
      "metadata": {
        "ExecuteTime": {
          "end_time": "2023-09-06T16:43:42.861667Z",
          "start_time": "2023-09-06T16:43:42.832451Z"
        },
        "id": "ZkvOICrsoAxN"
      }
    },
    {
      "cell_type": "code",
      "execution_count": null,
      "outputs": [],
      "source": [
        "from langchain.chains import FlareChain\n",
        "from langchain.chat_models import ChatOpenAI\n",
        "\n",
        "LLM = ChatOpenAI(\n",
        "    model_name=\"gpt-4\",\n",
        "    temperature=0,\n",
        ")\n",
        "agent = FlareChain.from_llm(\n",
        "    llm=LLM,\n",
        "    retriever=db.as_retriever(),\n",
        "    max_generation_len=1500,\n",
        "    verbose=True,\n",
        "    max_tokens_limit=1500,\n",
        ")"
      ],
      "metadata": {
        "ExecuteTime": {
          "end_time": "2023-09-06T16:50:33.934178Z",
          "start_time": "2023-09-06T16:50:33.924826Z"
        },
        "id": "FIizsZCYoAxO"
      }
    },
    {
      "cell_type": "code",
      "execution_count": null,
      "outputs": [
        {
          "name": "stdout",
          "output_type": "stream",
          "text": [
            "\n",
            "\n",
            "\u001b[1m> Entering new FlareChain chain...\u001b[0m\n",
            "\u001b[36;1m\u001b[1;3mCurrent Response: \u001b[0m\n",
            "Prompt after formatting:\n",
            "\u001b[32;1m\u001b[1;3mRespond to the user message using any relevant context. If context is provided, you should ground your answer in that context. Once you're done responding return FINISHED.\n",
            "\n",
            ">>> CONTEXT: \n",
            ">>> USER INPUT: What is LangSmith and what can it do?\n",
            ">>> RESPONSE: \u001b[0m\n",
            "\u001b[33;1m\u001b[1;3mGenerated Questions: ['What are some of the tools and resources that LangSmith offers to aid in language learning?', '\"What is one of the features that LangSmith offers to aid in language learning?\"', '\"What feature does LangSmith provide to help you understand your learning progress and areas for improvement?\"']\u001b[0m\n",
            "\n",
            "\u001b[1m> Finished chain.\u001b[0m\n"
          ]
        },
        {
          "data": {
            "text/plain": "' LangSmith is a platform for building, debugging, and monitoring natural language processing (NLP) applications. It provides a suite of tools for debugging LLMs, chains, agents, tools, and retrievers, as well as for monitoring performance and collecting feedback. It also makes it easy to curate datasets and export them for use in other contexts. '"
          },
          "execution_count": 47,
          "metadata": {},
          "output_type": "execute_result"
        }
      ],
      "source": [
        "agent.run(\"What is LangSmith and what can it do?\")"
      ],
      "metadata": {
        "ExecuteTime": {
          "end_time": "2023-09-06T16:50:46.835654Z",
          "start_time": "2023-09-06T16:50:34.578678Z"
        },
        "id": "ik9yjyQGoAxO",
        "outputId": "162e1f08-fd7b-4f9c-d1b8-50dc089035ba"
      }
    },
    {
      "cell_type": "code",
      "execution_count": null,
      "outputs": [],
      "source": [],
      "metadata": {
        "id": "XYt4e4JFoAxO"
      }
    }
  ],
  "metadata": {
    "kernelspec": {
      "display_name": "Python 3",
      "language": "python",
      "name": "python3"
    },
    "language_info": {
      "codemirror_mode": {
        "name": "ipython",
        "version": 2
      },
      "file_extension": ".py",
      "mimetype": "text/x-python",
      "name": "python",
      "nbconvert_exporter": "python",
      "pygments_lexer": "ipython2",
      "version": "2.7.6"
    },
    "colab": {
      "provenance": [],
      "include_colab_link": true
    }
  },
  "nbformat": 4,
  "nbformat_minor": 0
}