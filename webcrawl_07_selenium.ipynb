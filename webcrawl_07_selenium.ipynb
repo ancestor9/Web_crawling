{
 "cells": [
  {
   "cell_type": "code",
   "execution_count": 2,
   "metadata": {},
   "outputs": [],
   "source": [
    "# pip install selenium\n",
    "# pip install --upgrade pip\n",
    "# pip install --upgrade selenium\n",
    "# pip install webdriver_manager\n",
    "# https://www.youtube.com/watch?v=LoPvjfABlBA "
   ]
  },
  {
   "cell_type": "code",
   "execution_count": 15,
   "metadata": {},
   "outputs": [],
   "source": [
    "from selenium import webdriver\n",
    "from selenium.webdriver.chrome.service import Service\n",
    "from selenium.webdriver.chrome.options import Options\n",
    "\n",
    "# 크롬드라이버 최신버젼 자동 업데이트 다운로드\n",
    "from webdriver_manager.chrome import ChromeDriverManager\n",
    "\n",
    "# # 브라우저 꺼짐 방지\n",
    "chrome_options = Options()\n",
    "chrome_options.add_experimental_option('detach', True)\n",
    "# 불필요한 에러 메시지 없애기\n",
    "chrome_options.add_experimental_option(\"excludeSwitches\", [\"enable-logging\"])"
   ]
  },
  {
   "cell_type": "code",
   "execution_count": 16,
   "metadata": {},
   "outputs": [],
   "source": [
    "service = Service(executable_path=ChromeDriverManager().install())\n",
    "driver = webdriver.Chrome(service=service, options=chrome_options)"
   ]
  },
  {
   "cell_type": "code",
   "execution_count": 17,
   "metadata": {},
   "outputs": [],
   "source": [
    "# 주소이동 URL path\n",
    "\n",
    "driver.implicitly_wait(5) # 패이지 로딩 될 떄 까지 5초 기다려려\n",
    "# driver.maximize_window()\n",
    "driver.get(\"https://www.naver.com\")"
   ]
  },
  {
   "cell_type": "code",
   "execution_count": 20,
   "metadata": {},
   "outputs": [],
   "source": [
    "# Selenium에서 요소 선택 (XPath 포함)\n",
    "# Selenium은 동적 웹 페이지에서 요소를 찾을 때 많이 사용됩니다. XPath를 지원하여 강력한 요소 선택이 가능합니다.\n",
    "\n",
    "# 예제: ID, Class, CSS Selector, XPath 사용하기"
   ]
  },
  {
   "cell_type": "code",
   "execution_count": 23,
   "metadata": {},
   "outputs": [
    {
     "name": "stdout",
     "output_type": "stream",
     "text": [
      "Quote: “The world as we have created it is a process of our thinking. It cannot be changed without changing our thinking.”\n",
      "Author: Albert Einstein\n",
      "\n",
      "Quote: “It is our choices, Harry, that show what we truly are, far more than our abilities.”\n",
      "Author: J.K. Rowling\n",
      "\n",
      "Quote: “There are only two ways to live your life. One is as though nothing is a miracle. The other is as though everything is a miracle.”\n",
      "Author: Albert Einstein\n",
      "\n",
      "Quote: “The person, be it gentleman or lady, who has not pleasure in a good novel, must be intolerably stupid.”\n",
      "Author: Jane Austen\n",
      "\n",
      "Quote: “Imperfection is beauty, madness is genius and it's better to be absolutely ridiculous than absolutely boring.”\n",
      "Author: Marilyn Monroe\n",
      "\n",
      "Quote: “Try not to become a man of success. Rather become a man of value.”\n",
      "Author: Albert Einstein\n",
      "\n",
      "Quote: “It is better to be hated for what you are than to be loved for what you are not.”\n",
      "Author: André Gide\n",
      "\n",
      "Quote: “I have not failed. I've just found 10,000 ways that won't work.”\n",
      "Author: Thomas A. Edison\n",
      "\n",
      "Quote: “A woman is like a tea bag; you never know how strong it is until it's in hot water.”\n",
      "Author: Eleanor Roosevelt\n",
      "\n",
      "Quote: “A day without sunshine is like, you know, night.”\n",
      "Author: Steve Martin\n",
      "\n"
     ]
    }
   ],
   "source": [
    "driver.quit()\n",
    "\n",
    "# 1. WebDriver 실행 (자동으로 최신 버전 설치 및 실행)\n",
    "service = Service(ChromeDriverManager().install())\n",
    "driver = webdriver.Chrome(service=service)\n",
    "\n",
    "try:\n",
    "    # 2. URL 로드 (동적 콘텐츠가 있는 실제 웹사이트 사용)\n",
    "    url = \"https://quotes.toscrape.com/js/\"  # JavaScript로 로딩되는 동적 웹사이트\n",
    "    driver.get(url)\n",
    "\n",
    "    # 페이지가 로드될 때까지 대기\n",
    "    time.sleep(3)\n",
    "\n",
    "    # 3. 요소 선택\n",
    "    try:\n",
    "        # Class로 선택 (명언이 들어 있는 요소)\n",
    "        quotes = driver.find_elements(By.CLASS_NAME, \"quote\")\n",
    "\n",
    "        # 4. 데이터 출력\n",
    "        for quote in quotes:\n",
    "            text = quote.find_element(By.CLASS_NAME, \"text\").text  # 명언 텍스트\n",
    "            author = quote.find_element(By.CLASS_NAME, \"author\").text  # 작가\n",
    "            print(f\"Quote: {text}\\nAuthor: {author}\\n\")\n",
    "\n",
    "    except Exception as e:\n",
    "        print(\"Error:\", e)\n",
    "\n",
    "finally:\n",
    "    # 5. 브라우저 종료\n",
    "    driver.quit()\n",
    "\n"
   ]
  },
  {
   "cell_type": "code",
   "execution_count": 19,
   "metadata": {},
   "outputs": [],
   "source": [
    "## 아래 동영상에서 selenium 배우기"
   ]
  },
  {
   "cell_type": "code",
   "execution_count": 18,
   "metadata": {},
   "outputs": [
    {
     "data": {
      "image/jpeg": "[encoded data removed]",
      "text/html": [
       "\n",
       "        <iframe\n",
       "            width=\"400\"\n",
       "            height=\"300\"\n",
       "            src=\"https://www.youtube.com/embed/yQ20jZwDjTE?start=10581\"\n",
       "            frameborder=\"0\"\n",
       "            allowfullscreen\n",
       "            \n",
       "        ></iframe>\n",
       "        "
      ],
      "text/plain": [
       "<IPython.lib.display.YouTubeVideo at 0x1aebc61f410>"
      ]
     },
     "execution_count": 18,
     "metadata": {},
     "output_type": "execute_result"
    }
   ],
   "source": [
    "from IPython.display import YouTubeVideo\n",
    "YouTubeVideo(\"yQ20jZwDjTE\", start=10581)  # 비디오 ID와 시작 시간(초)"
   ]
  },
  {
   "cell_type": "code",
   "execution_count": null,
   "metadata": {},
   "outputs": [],
   "source": [
    "driver.get(\"https://nid.naver.com/nidlogin.login?mode=form&url=https://www.naver.com/\")"
   ]
  },
  {
   "cell_type": "code",
   "execution_count": 4,
   "metadata": {},
   "outputs": [],
   "source": [
    "# F12(크롬개발자 도구) id 박스 클릭하여 Copy > Copy selector\n",
    "# #id\n",
    "# 아이디 입력창\n",
    "from selenium.webdriver.common.by import By"
   ]
  },
  {
   "cell_type": "code",
   "execution_count": null,
   "metadata": {},
   "outputs": [],
   "source": [
    "## 자동방지 입력문자 \n",
    "id = driver.find_element(By.CSS_SELECTOR, \"#id\")\n",
    "id.click()\n",
    "id.send_keys(\"ancestor9\")\n",
    "\n",
    "\n",
    "# 패스워드 입력창\n",
    "pw= driver.find_element(By.CSS_SELECTOR, \"#pw\")\n",
    "pw.click()\n",
    "pw.send_keys(\"미ㅏ미라라\")\n",
    "\n",
    "# 로그인 버튼\n",
    "login_btn= driver.find_element(By.CSS_SELECTOR, r\"#log\\.login\")\n",
    "login_btn.click()\n"
   ]
  },
  {
   "cell_type": "code",
   "execution_count": null,
   "metadata": {},
   "outputs": [],
   "source": [
    "# pip install pyperclip\n",
    "# pip install pyautogui\n",
    "import pyperclip\n",
    "import pyautogui\n",
    "import time\n",
    "\n",
    "id = driver.find_element(By.CSS_SELECTOR, \"#id\")\n",
    "id.click()\n",
    "# id.send_keys(\"ancestor9\")\n",
    "pyperclip.copy('ancestor9')\n",
    "pyautogui.hotkey(\"ctrl\", \"v\")\n",
    "time.sleep(2)\n",
    "# # 패스워드 입력창\n",
    "pw= driver.find_element(By.CSS_SELECTOR, \"#pw\")\n",
    "pw.click()\n",
    "pyperclip.copy('ㅁㄹㄴㅇㄹㅇㄴㄹ')\n",
    "pyautogui.hotkey(\"ctrl\", \"v\")\n",
    "time.sleep(2)\n",
    "\n",
    "# # 로그인 버튼\n",
    "login_btn= driver.find_element(By.CSS_SELECTOR, r\"#log\\.login\")\n",
    "login_btn.click()"
   ]
  },
  {
   "cell_type": "markdown",
   "metadata": {},
   "source": []
  }
 ],
 "metadata": {
  "kernelspec": {
   "display_name": "zoro",
   "language": "python",
   "name": "zoro"
  },
  "language_info": {
   "codemirror_mode": {
    "name": "ipython",
    "version": 3
   },
   "file_extension": ".py",
   "mimetype": "text/x-python",
   "name": "python",
   "nbconvert_exporter": "python",
   "pygments_lexer": "ipython3",
   "version": "3.12.3"
  }
 },
 "nbformat": 4,
 "nbformat_minor": 2
}
